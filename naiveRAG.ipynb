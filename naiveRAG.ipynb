{
 "cells": [
  {
   "cell_type": "code",
   "execution_count": 10,
   "id": "e24a2afc-7562-466c-aa2c-bdf1a82c7b48",
   "metadata": {},
   "outputs": [],
   "source": [
    "from langchain_text_splitters import RecursiveCharacterTextSplitter\n",
    "from langchain_google_genai import GoogleGenerativeAIEmbeddings\n",
    "from langchain_google_genai import ChatGoogleGenerativeAI\n",
    "from langchain_chroma import Chroma\n",
    "from langchain_community.document_loaders import PyPDFLoader\n",
    "from langchain.chains.question_answering import load_qa_chain"
   ]
  },
  {
   "cell_type": "code",
   "execution_count": 11,
   "id": "7a1205cc-84a9-47c2-a7fc-f8069bf9bfb5",
   "metadata": {},
   "outputs": [],
   "source": [
    "import os"
   ]
  },
  {
   "cell_type": "code",
   "execution_count": null,
   "id": "4498e8dc-d42a-41f4-808d-6c1daa2d12b8",
   "metadata": {},
   "outputs": [],
   "source": [
    "os.environ[\"GOOGLE_API_KEY\"] = \"api_key_here\""
   ]
  },
  {
   "cell_type": "code",
   "execution_count": 13,
   "id": "55331379-43f5-4379-9fcf-6ab5f945483b",
   "metadata": {},
   "outputs": [],
   "source": [
    "#Load dos modelos (Embedding e LLM)\n",
    "\n",
    "embedding_model = GoogleGenerativeAIEmbeddings(model=\"models/text-embedding-004\")\n",
    "llm = ChatGoogleGenerativeAI(model=\"gemini-1.5-flash\", max_tokens=200)"
   ]
  },
  {
   "cell_type": "code",
   "execution_count": 14,
   "id": "4e463c14-d407-4238-aa9b-e49d41bccc79",
   "metadata": {},
   "outputs": [],
   "source": [
    "#Carregar o PDF\n",
    "\n",
    "pdf_link = \"os-sertoes.pdf\"\n",
    "\n",
    "loader = PyPDFLoader(pdf_link, extract_images=False)\n",
    "pages = loader.load_and_split()"
   ]
  },
  {
   "cell_type": "code",
   "execution_count": 15,
   "id": "abaf2cc3-ed50-49c4-819a-f2f149078c74",
   "metadata": {},
   "outputs": [],
   "source": [
    "#Separar em Chunks\n",
    "\n",
    "text_splitter = RecursiveCharacterTextSplitter(\n",
    "    chunk_size = 4000,\n",
    "    chunk_overlap = 20,\n",
    "    length_function = len,\n",
    "    add_start_index = True\n",
    ")\n",
    "\n",
    "chunks = text_splitter.split_documents(pages)"
   ]
  },
  {
   "cell_type": "code",
   "execution_count": 16,
   "id": "18d412aa-9656-4bc4-835e-4af72ff171af",
   "metadata": {},
   "outputs": [],
   "source": [
    "#Salvar no Vector DB - Chroma\n",
    "\n",
    "db = Chroma.from_documents(chunks, embedding=embedding_model, persist_directory=\"text_index\")"
   ]
  },
  {
   "cell_type": "code",
   "execution_count": 17,
   "id": "dc82621b-05e1-4b06-ad8c-c9098757554c",
   "metadata": {},
   "outputs": [],
   "source": [
    "#Carregar o DB\n",
    "\n",
    "vectordb = Chroma(persist_directory=\"text_index\", embedding_function=embedding_model)\n",
    "\n",
    "#Loading Retriever\n",
    "retriever = vectordb.as_retriever(search_kwargs={\"k\":3})\n",
    "\n",
    "#Construção da cadeia de prompt\n",
    "chain = load_qa_chain(llm, chain_type=\"stuff\")"
   ]
  },
  {
   "cell_type": "code",
   "execution_count": 23,
   "id": "aa981abb-3872-44f9-9c65-91152296ee6e",
   "metadata": {},
   "outputs": [],
   "source": [
    "def ask(question):\n",
    "    context = retriever.get_relevant_documents(question)\n",
    "    answer = chain({\"input_documents\": context, \"question\": question}, return_only_outputs=True)['output_text']\n",
    "    return answer"
   ]
  },
  {
   "cell_type": "code",
   "execution_count": null,
   "id": "b6273e5f-4fa5-4f30-9fcd-40af639e2f94",
   "metadata": {},
   "outputs": [],
   "source": [
    "# Pergunta a serem respondidas sobre \"Os Sertões\" de Euclides da Cunha:\n",
    "# \n",
    "# 1. Qual é a visão de Euclides da Cunha sobre o ambiente natural do sertão nordestino e como ele influencia a vida dos habitantes?\n",
    "#2. Quais são as principais características da população sertaneja descritas por Euclides da Cunha? Como ele relaciona essas características com o ambiente em que vivem?\n",
    "#3. Qual foi o contexto histórico e político que levou à Guerra de Canudos, segundo Euclides da Cunha?\n",
    "#4. Como Euclides da Cunha descreve a figura de Antônio Conselheiro e seu papel na Guerra de Canudos?\n",
    "#5. Quais são os principais aspectos da crítica social e política presentes em \"Os Sertões\"? Como esses aspectos refletem a visão do autor sobre o Brasil da época?\n",
    "\n",
    "user_question = input(\"User: \")\n",
    "answer = ask(user_question)\n",
    "print(\"Answer: \", answer)"
   ]
  },
  {
   "cell_type": "code",
   "execution_count": null,
   "id": "30b7abff-76d8-4ad1-8deb-7008863da76d",
   "metadata": {},
   "outputs": [],
   "source": []
  }
 ],
 "metadata": {
  "kernelspec": {
   "display_name": "Python [conda env:base] *",
   "language": "python",
   "name": "conda-base-py"
  },
  "language_info": {
   "codemirror_mode": {
    "name": "ipython",
    "version": 3
   },
   "file_extension": ".py",
   "mimetype": "text/x-python",
   "name": "python",
   "nbconvert_exporter": "python",
   "pygments_lexer": "ipython3",
   "version": "3.13.5"
  }
 },
 "nbformat": 4,
 "nbformat_minor": 5
}
