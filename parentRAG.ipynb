{
 "cells": [
  {
   "cell_type": "code",
   "execution_count": 18,
   "id": "e24a2afc-7562-466c-aa2c-bdf1a82c7b48",
   "metadata": {},
   "outputs": [],
   "source": [
    "from langchain_text_splitters import RecursiveCharacterTextSplitter\n",
    "from langchain_google_genai import ChatGoogleGenerativeAI, GoogleGenerativeAIEmbeddings\n",
    "from langchain_chroma import Chroma\n",
    "from langchain_community.document_loaders import PyPDFLoader\n",
    "from langchain_core.prompts import ChatPromptTemplate\n",
    "\n",
    "from langchain_core.runnables import RunnablePassthrough, RunnableParallel\n",
    "\n",
    "from langchain_core.output_parsers import StrOutputParser\n",
    "\n",
    "from langchain.retrievers import ParentDocumentRetriever\n",
    "\n",
    "from langchain.storage import InMemoryStore"
   ]
  },
  {
   "cell_type": "code",
   "execution_count": 4,
   "id": "7a1205cc-84a9-47c2-a7fc-f8069bf9bfb5",
   "metadata": {},
   "outputs": [],
   "source": [
    "import os"
   ]
  },
  {
   "cell_type": "code",
   "execution_count": null,
   "id": "4498e8dc-d42a-41f4-808d-6c1daa2d12b8",
   "metadata": {},
   "outputs": [],
   "source": [
    "os.environ[\"GOOGLE_API_KEY\"] = \"api_key_here\""
   ]
  },
  {
   "cell_type": "code",
   "execution_count": 7,
   "id": "55331379-43f5-4379-9fcf-6ab5f945483b",
   "metadata": {},
   "outputs": [],
   "source": [
    "#Load dos modelos (Embedding e LLM)\n",
    "\n",
    "embedding_model = GoogleGenerativeAIEmbeddings(model=\"models/text-embedding-004\")\n",
    "llm = ChatGoogleGenerativeAI(model=\"gemini-1.5-flash\", max_tokens=500)"
   ]
  },
  {
   "cell_type": "code",
   "execution_count": 8,
   "id": "4e463c14-d407-4238-aa9b-e49d41bccc79",
   "metadata": {},
   "outputs": [],
   "source": [
    "#Carregar o PDF\n",
    "\n",
    "pdf_link = \"os-sertoes.pdf\"\n",
    "\n",
    "loader = PyPDFLoader(pdf_link, extract_images=False)\n",
    "pages = loader.load_and_split()"
   ]
  },
  {
   "cell_type": "code",
   "execution_count": 9,
   "id": "715ab769",
   "metadata": {},
   "outputs": [
    {
     "data": {
      "text/plain": [
       "658"
      ]
     },
     "execution_count": 9,
     "metadata": {},
     "output_type": "execute_result"
    }
   ],
   "source": [
    "len(pages)"
   ]
  },
  {
   "cell_type": "code",
   "execution_count": 10,
   "id": "abaf2cc3-ed50-49c4-819a-f2f149078c74",
   "metadata": {},
   "outputs": [],
   "source": [
    "#Separar em Chunks\n",
    "\n",
    "child_splitter = RecursiveCharacterTextSplitter(chunk_size=1000, chunk_overlap=200)\n",
    "\n",
    "parent_splitter = RecursiveCharacterTextSplitter(\n",
    "    chunk_size=4000, \n",
    "    chunk_overlap=200,\n",
    "    length_function=len,\n",
    "    add_start_index=True\n",
    ")"
   ]
  },
  {
   "cell_type": "code",
   "execution_count": 12,
   "id": "dc82621b-05e1-4b06-ad8c-c9098757554c",
   "metadata": {},
   "outputs": [],
   "source": [
    "#Storages\n",
    "\n",
    "store = InMemoryStore()\n",
    "\n",
    "vectorStore = Chroma(embedding_function=embedding_model, persist_directory=\"childVectorDB\")"
   ]
  },
  {
   "cell_type": "code",
   "execution_count": 14,
   "id": "1441879b",
   "metadata": {},
   "outputs": [],
   "source": [
    "parent_document_retriever = ParentDocumentRetriever(\n",
    "    vectorstore=vectorStore,\n",
    "    docstore=store,\n",
    "    child_splitter=child_splitter,\n",
    "    parent_splitter=parent_splitter\n",
    ")\n",
    "\n",
    "parent_document_retriever.add_documents(pages, ids=None)"
   ]
  },
  {
   "cell_type": "code",
   "execution_count": 21,
   "id": "aa981abb-3872-44f9-9c65-91152296ee6e",
   "metadata": {},
   "outputs": [],
   "source": [
    "TEMPLATE = \"\"\"\"\n",
    "    Você é um especialista em literatura brasileira. Responda a pergunta com base no contexto fornecido.\n",
    "    Query:\n",
    "    {question}\n",
    "\n",
    "    Context:\n",
    "    {context}\n",
    "\"\"\"\n",
    "\n",
    "rag_prompt = ChatPromptTemplate.from_template(TEMPLATE)"
   ]
  },
  {
   "cell_type": "code",
   "execution_count": 19,
   "id": "4e562b20",
   "metadata": {},
   "outputs": [],
   "source": [
    "setup_retrival = RunnableParallel({\"question\": RunnablePassthrough(), \"context\": parent_document_retriever})\n",
    "\n",
    "output_parser = StrOutputParser()"
   ]
  },
  {
   "cell_type": "code",
   "execution_count": 22,
   "id": "79a83508",
   "metadata": {},
   "outputs": [],
   "source": [
    "parent_chain_retrival = setup_retrival | rag_prompt | llm | output_parser"
   ]
  },
  {
   "cell_type": "code",
   "execution_count": 24,
   "id": "b6273e5f-4fa5-4f30-9fcd-40af639e2f94",
   "metadata": {},
   "outputs": [
    {
     "data": {
      "text/plain": [
       "'O excerto fornecido não oferece detalhes suficientes sobre a crítica social e política em \"Os Sertões\" para uma resposta completa.  O texto menciona a obra como um retrato complexo da realidade geográfica e humana do sertão,  uma mistura de gêneros literários que explica cientificamente e literariamente um momento da história nacional.  Também há uma citação de uma crítica literária de Araripe Júnior, que, embora elogie a obra, demonstra uma leitura equivocada do sertão, do sertanejo e de Antônio Conselheiro, possivelmente influenciada pelo cosmopolitismo da Belle Époque.\\n\\nPara responder adequadamente à pergunta sobre os principais aspectos da crítica social e política em \"Os Sertões\" e como eles refletem a visão de Euclides da Cunha sobre o Brasil da época, é necessário o acesso ao conteúdo completo da obra.  O excerto apenas oferece um vislumbre de algumas interpretações críticas, sem detalhar as próprias análises sociais e políticas de Cunha.  A análise completa precisaria abordar temas como:\\n\\n* **A desigualdade social e econômica:**  A obra certamente explora as disparidades entre a elite e a população sertaneja, mostrando a pobreza, a miséria e a exploração a que esta última estava submetida.\\n* **A relação entre o Estado e a população:** A repressão do governo à comunidade de Canudos e a forma como os sertanejos foram tratados demonstram uma crítica à ação do Estado brasileiro.\\n* **O choque entre a civilização e a barbárie:** A obra explora o conflito entre o que era considerado \"civilizado\" (o litoral) e o que era visto como \"selvagem\" (o sertão), refletindo os preconceitos da época.\\n* **O fanatismo religioso e o messianismo:**  A figura de Antônio Conselheiro e o movimento de Canudos são analisados, mostrando a complexidade do fenômeno religioso no contexto social e político.\\n* **O determinismo geográfico:** Cunha relaciona as características físicas e ambientais do sertão com o comportamento e a cultura da população, um aspecto controverso que precisa ser analisado criticamente.\\n\\nEm resumo,  o excerto não permite responder plenamente à pergunta.  A análise de \"Os Sertões\" exige a leitura completa do livro para entender a complexidade da crítica social e política de Euclides'"
      ]
     },
     "execution_count": 24,
     "metadata": {},
     "output_type": "execute_result"
    }
   ],
   "source": [
    "# Pergunta a serem respondidas sobre \"Os Sertões\" de Euclides da Cunha:\n",
    "# \n",
    "#1. Qual é a visão de Euclides da Cunha sobre o ambiente natural do sertão nordestino e como ele influencia a vida dos habitantes?\n",
    "#2. Quais são as principais características da população sertaneja descritas por Euclides da Cunha? Como ele relaciona essas características com o ambiente em que vivem?\n",
    "#3. Qual foi o contexto histórico e político que levou à Guerra de Canudos, segundo Euclides da Cunha?\n",
    "#4. Como Euclides da Cunha descreve a figura de Antônio Conselheiro e seu papel na Guerra de Canudos?\n",
    "#5. Quais são os principais aspectos da crítica social e política presentes em \"Os Sertões\"? Como esses aspectos refletem a visão do autor sobre o Brasil da época?\n",
    "\n",
    "parent_chain_retrival.invoke(\"Quais são os principais aspectos da crítica social e política presentes em 'Os Sertões'? Como esses aspectos refletem a visão do autor sobre o Brasil da época?\")"
   ]
  },
  {
   "cell_type": "code",
   "execution_count": null,
   "id": "30b7abff-76d8-4ad1-8deb-7008863da76d",
   "metadata": {},
   "outputs": [],
   "source": []
  }
 ],
 "metadata": {
  "kernelspec": {
   "display_name": "base",
   "language": "python",
   "name": "python3"
  },
  "language_info": {
   "codemirror_mode": {
    "name": "ipython",
    "version": 3
   },
   "file_extension": ".py",
   "mimetype": "text/x-python",
   "name": "python",
   "nbconvert_exporter": "python",
   "pygments_lexer": "ipython3",
   "version": "3.13.5"
  }
 },
 "nbformat": 4,
 "nbformat_minor": 5
}
