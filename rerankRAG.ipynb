{
 "cells": [
  {
   "cell_type": "code",
   "execution_count": 46,
   "id": "e24a2afc-7562-466c-aa2c-bdf1a82c7b48",
   "metadata": {},
   "outputs": [],
   "source": [
    "from langchain_text_splitters import RecursiveCharacterTextSplitter\n",
    "from langchain_google_genai import ChatGoogleGenerativeAI, GoogleGenerativeAIEmbeddings\n",
    "from langchain_chroma import Chroma\n",
    "from langchain_community.document_loaders import PyPDFLoader\n",
    "from langchain_core.prompts import ChatPromptTemplate\n",
    "\n",
    "from langchain_core.runnables import RunnablePassthrough, RunnableParallel\n",
    "\n",
    "from langchain_core.output_parsers import StrOutputParser\n",
    "\n",
    "from langchain.retrievers.contextual_compression import ContextualCompressionRetriever\n",
    "from langchain_cohere import CohereRerank"
   ]
  },
  {
   "cell_type": "code",
   "execution_count": 47,
   "id": "7a1205cc-84a9-47c2-a7fc-f8069bf9bfb5",
   "metadata": {},
   "outputs": [],
   "source": [
    "import os"
   ]
  },
  {
   "cell_type": "code",
   "execution_count": null,
   "id": "4498e8dc-d42a-41f4-808d-6c1daa2d12b8",
   "metadata": {},
   "outputs": [],
   "source": [
    "os.environ[\"GOOGLE_API_KEY\"] = \"YOUR_GOOGLE_API_KEY\""
   ]
  },
  {
   "cell_type": "code",
   "execution_count": 49,
   "id": "55331379-43f5-4379-9fcf-6ab5f945483b",
   "metadata": {},
   "outputs": [],
   "source": [
    "#Load dos modelos (Embedding e LLM)\n",
    "\n",
    "embedding_model = GoogleGenerativeAIEmbeddings(model=\"models/text-embedding-004\")\n",
    "llm = ChatGoogleGenerativeAI(model=\"gemini-1.5-flash\", max_tokens=300)"
   ]
  },
  {
   "cell_type": "code",
   "execution_count": 50,
   "id": "4e463c14-d407-4238-aa9b-e49d41bccc79",
   "metadata": {},
   "outputs": [],
   "source": [
    "#Carregar o PDF\n",
    "\n",
    "pdf_link = \"os-sertoes.pdf\"\n",
    "\n",
    "loader = PyPDFLoader(pdf_link, extract_images=False)\n",
    "pages = loader.load_and_split()"
   ]
  },
  {
   "cell_type": "code",
   "execution_count": 52,
   "id": "abaf2cc3-ed50-49c4-819a-f2f149078c74",
   "metadata": {},
   "outputs": [],
   "source": [
    "#Separar em Chunks\n",
    "\n",
    "text_splitter = RecursiveCharacterTextSplitter(\n",
    "    chunk_size=4000, \n",
    "    chunk_overlap=200,\n",
    "    length_function=len,\n",
    "    add_start_index=True\n",
    ")\n",
    "\n",
    "chunks = text_splitter.split_documents(pages)"
   ]
  },
  {
   "cell_type": "code",
   "execution_count": 53,
   "id": "dc82621b-05e1-4b06-ad8c-c9098757554c",
   "metadata": {},
   "outputs": [],
   "source": [
    "#Salvar os Chunks no VectorDB\n",
    "\n",
    "if os.path.exists(\"naive\"):\n",
    "    vectorDB = Chroma(\n",
    "        embedding_function=embedding_model, \n",
    "        persist_directory=\"naive\"\n",
    "    )\n",
    "    \n",
    "# Se não existir, crie o banco de dados e salve os documentos\n",
    "else:\n",
    "    vectorDB = Chroma.from_documents(\n",
    "        documents=chunks, \n",
    "        embedding=embedding_model, \n",
    "        persist_directory=\"naive\"\n",
    "    )"
   ]
  },
  {
   "cell_type": "code",
   "execution_count": 54,
   "id": "1441879b",
   "metadata": {},
   "outputs": [],
   "source": [
    "naive_retriever = vectorDB.as_retriever(search_kwargs={\"k\": 10})\n"
   ]
  },
  {
   "cell_type": "code",
   "execution_count": null,
   "id": "4e562b20",
   "metadata": {},
   "outputs": [],
   "source": [
    "os.environ[\"CO_API_KEY\"] = \"api_key\"\n",
    "\n",
    "rerank = CohereRerank(\n",
    "    model=\"rerank-v3.5\",\n",
    "    top_n=3\n",
    ")\n",
    "\n",
    "compressor_retriever = ContextualCompressionRetriever(\n",
    "    base_compressor=rerank,\n",
    "    base_retriever=naive_retriever\n",
    ")"
   ]
  },
  {
   "cell_type": "code",
   "execution_count": 56,
   "id": "79a83508",
   "metadata": {},
   "outputs": [],
   "source": [
    "TEMPLATE = \"\"\"\"\n",
    "    Você é um especialista em literatura brasileira. Responda a pergunta abaixo utilizando o contexto informado.\n",
    "    Contexto:\n",
    "    {context}\n",
    "\n",
    "    Pergunta:\n",
    "    {question}\n",
    "\"\"\"\n",
    "\n",
    "rag_prompt = ChatPromptTemplate.from_template(TEMPLATE)"
   ]
  },
  {
   "cell_type": "code",
   "execution_count": 57,
   "id": "e3efd306",
   "metadata": {},
   "outputs": [],
   "source": [
    "setup_retrieval = RunnableParallel({\"question\": RunnablePassthrough(), \"context\": compressor_retriever})\n",
    "output_parser = StrOutputParser()\n",
    "compressor_retrieval_chain = setup_retrieval | rag_prompt | llm | output_parser"
   ]
  },
  {
   "cell_type": "code",
   "execution_count": 59,
   "id": "b6273e5f-4fa5-4f30-9fcd-40af639e2f94",
   "metadata": {},
   "outputs": [
    {
     "name": "stdout",
     "output_type": "stream",
     "text": [
      "Pergunta: Qual é a visão de Euclides da Cunha sobre o ambiente natural do sertão nordestino e como ele influencia a vida dos habitantes?\n",
      "Resposta: A visão de Euclides da Cunha sobre o ambiente natural do sertão nordestino em *Os Sertões* é complexa e ambivalente,  longe de uma simples descrição romântica ou determinista.  Ele não o vê como mero cenário, mas como um personagem fundamental, um ator crucial na tragédia humana que se desenrola.\n",
      "\n",
      "Euclides descreve o sertão com uma precisão geográfica e científica impressionante, detalhando a vegetação (caatinga), o clima árido e inóspito, a escassez de água e a sua distribuição irregular.  Ele utiliza uma linguagem rica em detalhes,  explorando a aspereza da paisagem, a força bruta da natureza e a sua beleza paradoxal, muitas vezes hostil, porém fascinante.  A descrição minuciosa da geografia, da flora e da fauna,  se transforma numa poderosa ferramenta para compreender a vida e a cultura sertaneja.\n",
      "\n",
      "A influência do ambiente na vida dos habitantes, segundo Cunha, é determinante, mas não de forma simplista.  Ele não cai no determinismo geográfico, afirmando que o meio determina completamente o homem.  Em vez disso, ele demonstra como o meio *determina as condições* da vida sertaneja, moldando seus costumes, sua economia e sua psicologia.  A seca recorrente, por exemplo, não é apenas um evento climático, mas a força motriz de conflitos, migrações e miséria\n",
      "\n",
      "==================================================\n",
      "\n",
      "Pergunta: Quais são as principais características da população sertaneja descritas por Euclides da Cunha? Como ele relaciona essas características com o ambiente em que vivem?\n",
      "Resposta: Sem o contexto fornecido, não posso responder à pergunta sobre as características da população sertaneja descritas por Euclides da Cunha e a relação dessas características com o meio ambiente.  A obra \"Os Sertões\" é extensa e complexa, e a descrição da população sertaneja é profundamente entrelaçada com a análise do meio físico e social.  Para responder adequadamente, preciso do contexto, que idealmente deveria incluir referências específicas ao livro.\n",
      "\n",
      "No entanto, posso fornecer uma resposta genérica baseada no conhecimento geral da obra:\n",
      "\n",
      "Euclides da Cunha, em \"Os Sertões\", descreve a população sertaneja como marcada por um forte individualismo, coragem, religiosidade fervorosa, mas também por fatalismo, resistência à mudança e  uma certa aspereza nos costumes.  Ele destaca a força física e a resistência ao sofrimento físico, características moldadas pela adversidade do ambiente.\n",
      "\n",
      "A relação entre essas características e o ambiente é central na obra.  Da Cunha argumenta que o sertão, com seu clima inclemente, sua aridez, sua escassez de recursos e sua geografia hostil, *modela* o caráter do sertanejo.  A luta pela sobrevivência nesse ambiente extremo forja a resistência, a resiliência e a capacidade de adaptação do povo sertanejo.  A religiosidade, muitas vezes mística e carregada de superstição, surge como uma forma de lidar com o\n",
      "\n",
      "==================================================\n",
      "\n",
      "Pergunta: Qual foi o contexto histórico e político que levou à Guerra de Canudos, segundo Euclides da Cunha?\n",
      "Resposta: Segundo Euclides da Cunha em \"Os Sertões\", a Guerra de Canudos foi produto de um complexo contexto histórico e político que se entrelaça em vários níveis:\n",
      "\n",
      "**1. A Exclusão Social e Econômica:**  Cunha descreve a profunda miséria e abandono a que estavam submetidos os sertanejos, especialmente os habitantes do sertão nordestino. A seca, a concentração fundiária e a falta de oportunidades econômicas geravam um ciclo vicioso de pobreza e desesperança.  A população de Canudos era formada, em grande parte, por flagelados da seca, retirantes sem terra e sem perspectiva de vida digna,  marginalizados pela estrutura socioeconômica do Brasil da época.  Essa exclusão social foi um elemento fundamental para o surgimento e crescimento do arraial.\n",
      "\n",
      "**2. A República Oligárquica e a Desigualdade:** A recém-proclamada República brasileira, longe de promover a justiça social, consolidou o poder das oligarquias agrárias, principalmente nos estados do Nordeste.  Essas elites, preocupadas em manter seus privilégios, ignoravam – e muitas vezes, agravavam – a situação de miséria da população sertaneja.  A ausência de políticas públicas efetivas para o desenvolvimento regional e a  falta de acesso à educação e saúde contribuíram para o acirramento das desigualdades e para o descontentamento popular.  Para\n",
      "\n",
      "==================================================\n",
      "\n",
      "Pergunta: Como Euclides da Cunha descreve a figura de Antônio Conselheiro e seu papel na Guerra de Canudos?\n",
      "Resposta: Sem o contexto fornecido, não posso responder à pergunta sobre como Euclides da Cunha descreve Antônio Conselheiro e seu papel na Guerra de Canudos em *Os Sertões*.  A obra de Euclides da Cunha é complexa e apresenta uma visão multifacetada do líder messiânico e do conflito.  Para responder adequadamente, preciso do contexto, que poderia incluir, por exemplo, trechos específicos do livro, ou pelo menos uma indicação da perspectiva que se busca.\n",
      "\n",
      "No entanto, posso oferecer uma resposta geral, baseada no conhecimento da obra:\n",
      "\n",
      "Euclides da Cunha não apresenta Antônio Conselheiro como um simples fanático ou um bandido, como muitos o retratavam à época.  Sua descrição é muito mais matizada e ambígua. Ele o descreve como um personagem enigmático, de fé inabalável e capacidade de liderança extraordinária, capaz de mobilizar e congregar uma população miserável e marginalizada.  Cunha destaca a aura de santidade que o cercava, a força de sua palavra e a crença inquebrantável em sua missão religiosa e social.  Ele analisa  o Conselheiro sob a ótica sociológica, antropológica e psicológica, buscando entender as causas e as consequências de seu carisma e de seu movimento.  \n",
      "\n",
      "Embora reconheça a natureza messiânica e as práticas às vezes consideradas extremas do Conselheiro, Cunha evita julg\n",
      "\n",
      "==================================================\n",
      "\n",
      "Pergunta:  Quais são os principais aspectos da crítica social e política presentes em \"Os Sertões\"? Como esses aspectos refletem a visão do autor sobre o Brasil da época?\n",
      "Resposta: Sem o contexto de \"Os Sertões\" fornecido, posso apenas responder com base no meu conhecimento prévio dessa obra-prima de Euclides da Cunha.  A ausência do contexto impossibilita uma análise mais profunda e específica, mas posso apontar os principais aspectos da crítica social e política presentes no livro e como eles refletem a visão de Euclides da Cunha sobre o Brasil do final do século XIX e início do século XX:\n",
      "\n",
      "Os principais aspectos da crítica social e política em \"Os Sertões\" incluem:\n",
      "\n",
      "* **Crítica à República Oligárquica:**  Euclides da Cunha demonstra uma profunda crítica ao sistema político da Primeira República, caracterizado pelo coronelismo, pelo autoritarismo e pela exclusão social. A Guerra de Canudos é apresentada como um sintoma dessa estrutura política falha, onde o poder central demonstra incapacidade e descaso com a população marginalizada.  A repressão brutal à comunidade de Canudos é analisada como um ato de violência estatal contra os mais vulneráveis.\n",
      "\n",
      "* **Crítica à Exclusão Social e à Desigualdade:** A obra retrata a profunda desigualdade social existente no Brasil da época. A miséria, a fome e a falta de oportunidades que afligiam os sertanejos são expostas com detalhes cruéis. A visão romantizada do sertanejo, frequentemente presente na literatura da época, é substituída por uma análise realista e crítica das condições de vida e da opressão sofridas por\n",
      "\n",
      "==================================================\n",
      "\n"
     ]
    }
   ],
   "source": [
    "# Pergunta a serem respondidas sobre \"Os Sertões\" de Euclides da Cunha:\n",
    "\n",
    "\n",
    "questions = [\n",
    "\"Qual é a visão de Euclides da Cunha sobre o ambiente natural do sertão nordestino e como ele influencia a vida dos habitantes?\",\n",
    "\"Quais são as principais características da população sertaneja descritas por Euclides da Cunha? Como ele relaciona essas características com o ambiente em que vivem?\",\n",
    "\"Qual foi o contexto histórico e político que levou à Guerra de Canudos, segundo Euclides da Cunha?\",\n",
    "\"Como Euclides da Cunha descreve a figura de Antônio Conselheiro e seu papel na Guerra de Canudos?\",\n",
    "\" Quais são os principais aspectos da crítica social e política presentes em \\\"Os Sertões\\\"? Como esses aspectos refletem a visão do autor sobre o Brasil da época?\",\n",
    "\n",
    "] \n",
    "\n",
    "\n",
    "for question in questions:    \n",
    "    print(f\"Pergunta: {question}\")\n",
    "    print(\"Resposta:\", compressor_retrieval_chain.invoke(question))\n",
    "    print(\"\\n\" + \"=\"*50 + \"\\n\")"
   ]
  },
  {
   "cell_type": "code",
   "execution_count": null,
   "id": "30b7abff-76d8-4ad1-8deb-7008863da76d",
   "metadata": {},
   "outputs": [],
   "source": []
  }
 ],
 "metadata": {
  "kernelspec": {
   "display_name": "base",
   "language": "python",
   "name": "python3"
  },
  "language_info": {
   "codemirror_mode": {
    "name": "ipython",
    "version": 3
   },
   "file_extension": ".py",
   "mimetype": "text/x-python",
   "name": "python",
   "nbconvert_exporter": "python",
   "pygments_lexer": "ipython3",
   "version": "3.13.5"
  }
 },
 "nbformat": 4,
 "nbformat_minor": 5
}
